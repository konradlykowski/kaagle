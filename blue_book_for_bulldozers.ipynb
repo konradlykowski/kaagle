{
  "cells": [
    {
      "metadata": {
        "trusted": true,
        "_uuid": "612ec565057455669e350c8dbe4a6c46349a9a1b"
      },
      "cell_type": "code",
      "source": "%load_ext autoreload\n%autoreload 2\n\n\n%matplotlib inline",
      "execution_count": null,
      "outputs": []
    },
    {
      "metadata": {
        "trusted": true,
        "_uuid": "c1c627482fae1d919e20bc4feb5bc4902248fe76"
      },
      "cell_type": "code",
      "source": "from fastai.imports import *\nfrom fastai.structured import *\n\nfrom pandas_summary import DataFrameSummary\nfrom sklearn.ensemble import RandomForestRegressor, RandomForestClassifier\nfrom IPython.display import display\n\nfrom sklearn import metrics",
      "execution_count": null,
      "outputs": []
    },
    {
      "metadata": {
        "trusted": true,
        "_uuid": "8a597bed68687612ba8c8811fab1a5c6d62a6cf5"
      },
      "cell_type": "code",
      "source": "PATH = \"../input/train/\"",
      "execution_count": null,
      "outputs": []
    },
    {
      "metadata": {
        "trusted": true,
        "_uuid": "740930003ff6b70a8247908b0cf7d62b9f17d7dc"
      },
      "cell_type": "code",
      "source": "!ls {PATH}",
      "execution_count": null,
      "outputs": []
    },
    {
      "metadata": {
        "trusted": true,
        "_uuid": "75872c1544b79f1f574e0c671fd460ae8264a518"
      },
      "cell_type": "code",
      "source": "df_raw = pd.read_csv(f'{PATH}Train.csv', low_memory=False, \n                     parse_dates=[\"saledate\"])",
      "execution_count": null,
      "outputs": []
    },
    {
      "metadata": {
        "trusted": true,
        "_uuid": "afc6e9e7a21b2fadad32901903487f1da763ea88"
      },
      "cell_type": "code",
      "source": "def display_all(df):\n    with pd.option_context(\"display.max_rows\", 1000, \"display.max_columns\", 1000): \n        display(df)",
      "execution_count": null,
      "outputs": []
    },
    {
      "metadata": {
        "trusted": true,
        "_uuid": "2c63ac0d0a8e6e8bf91e51e51c951c7b55d35871"
      },
      "cell_type": "code",
      "source": "display_all(df_raw.tail().T)",
      "execution_count": null,
      "outputs": []
    },
    {
      "metadata": {
        "trusted": true,
        "_uuid": "55922a16a691ce2dd57deda791da2aec41c205e4"
      },
      "cell_type": "code",
      "source": "display_all(df_raw.describe(include='all').T)",
      "execution_count": null,
      "outputs": []
    },
    {
      "metadata": {
        "trusted": true,
        "_uuid": "dec223c324bedfee961ff2e4d8c04a0da7e12f97"
      },
      "cell_type": "code",
      "source": "df_raw.SalePrice = np.log(df_raw.SalePrice)",
      "execution_count": null,
      "outputs": []
    },
    {
      "metadata": {
        "trusted": true,
        "_uuid": "31f18915efe4907ed4b39a72a56b1fb25075a9b9"
      },
      "cell_type": "code",
      "source": "add_datepart(df_raw, 'saledate')\ndf_raw.saleYear.head()",
      "execution_count": null,
      "outputs": []
    },
    {
      "metadata": {
        "trusted": true,
        "_uuid": "c68511e78b3a7da14a97d4283116e2ff2ff4523b"
      },
      "cell_type": "code",
      "source": "train_cats(df_raw)",
      "execution_count": null,
      "outputs": []
    },
    {
      "metadata": {
        "trusted": true,
        "_uuid": "d2256feeda1256ee401e81d8d209548e795fd083"
      },
      "cell_type": "code",
      "source": "df_raw.UsageBand.cat.categories\n",
      "execution_count": null,
      "outputs": []
    },
    {
      "metadata": {
        "trusted": true,
        "_uuid": "b482a8221d1a107b1e5b74942b100f30dbec2c72"
      },
      "cell_type": "code",
      "source": "df_raw.UsageBand.cat.set_categories(['High', 'Medium', 'Low'], ordered=True, inplace=True)",
      "execution_count": null,
      "outputs": []
    },
    {
      "metadata": {
        "trusted": true,
        "_uuid": "2d5a5d2d0ecdbf23941ce637c2f3fbfe20f42eea"
      },
      "cell_type": "code",
      "source": "df_raw.UsageBand = df_raw.UsageBand.cat.codes",
      "execution_count": null,
      "outputs": []
    },
    {
      "metadata": {
        "trusted": true,
        "_uuid": "cd64ead38154420e06a73508bee037fd9904d040"
      },
      "cell_type": "code",
      "source": "display_all(df_raw.isnull().sum().sort_index()/len(df_raw))",
      "execution_count": null,
      "outputs": []
    },
    {
      "metadata": {
        "trusted": true,
        "_uuid": "8e570191e6d19a580e99d2fe5837a9a8b9e49678"
      },
      "cell_type": "code",
      "source": "df, y, nas = proc_df(df_raw, 'SalePrice')\n",
      "execution_count": null,
      "outputs": []
    },
    {
      "metadata": {
        "trusted": true,
        "_uuid": "80299630ce312af9ed50f11c14c467c72722dcf3"
      },
      "cell_type": "code",
      "source": "def split_vals(a,n): return a[:n].copy(), a[n:].copy()\n\nn_valid = 12000  # same as Kaggle's test set size\nn_trn = len(df)-n_valid\nraw_train, raw_valid = split_vals(df_raw, n_trn)\nX_train, X_valid = split_vals(df, n_trn)\ny_train, y_valid = split_vals(y, n_trn)\n\nX_train.shape, y_train.shape, X_valid.shape, y_valid.shape",
      "execution_count": null,
      "outputs": []
    },
    {
      "metadata": {
        "trusted": true,
        "_uuid": "26fe1fce48535afb6e0bd8feebf70d27c99e4ab7"
      },
      "cell_type": "code",
      "source": "def rmse(x,y): return math.sqrt(((x-y)**2).mean())\n\ndef print_score(m):\n    res = [rmse(m.predict(X_train), y_train), rmse(m.predict(X_valid), y_valid),\n                m.score(X_train, y_train), m.score(X_valid, y_valid)]\n    if hasattr(m, 'oob_score_'): res.append(m.oob_score_)\n    print(res)",
      "execution_count": null,
      "outputs": []
    },
    {
      "metadata": {
        "trusted": true,
        "_uuid": "7f4ba3ff3768c298a47684cc7593179a55c208de"
      },
      "cell_type": "code",
      "source": "df_trn, y_trn, nas = proc_df(df_raw, 'SalePrice', subset=30000, na_dict=nas)\nX_train, _ = split_vals(df_trn, 20000)\ny_train, _ = split_vals(y_trn, 20000)",
      "execution_count": null,
      "outputs": []
    },
    {
      "metadata": {
        "trusted": true,
        "_uuid": "8b41540a2a881733cb421d13ea0df6e3790ed1a9"
      },
      "cell_type": "code",
      "source": "preds = np.stack([t.predict(X_valid) for t in m.estimators_])\npreds[:,0], np.mean(preds[:,0]), y_valid[0]",
      "execution_count": null,
      "outputs": []
    },
    {
      "metadata": {
        "trusted": true,
        "_uuid": "e35aac538b28ac7dd94ec1c038dfea85f462990e"
      },
      "cell_type": "code",
      "source": "preds.shape",
      "execution_count": null,
      "outputs": []
    },
    {
      "metadata": {
        "trusted": true,
        "_uuid": "2d0f89ed6a4c78d5ea7f9ea58c89d62d35561f2c"
      },
      "cell_type": "code",
      "source": "plt.plot([metrics.r2_score(y_valid, np.mean(preds[:i+1], axis=0)) for i in range(10)]);",
      "execution_count": null,
      "outputs": []
    },
    {
      "metadata": {
        "trusted": true,
        "_uuid": "b69cc9af402f420704da27b4f53945d077f42b1c"
      },
      "cell_type": "code",
      "source": "df_trn, y_trn, nas = proc_df(df_raw, 'SalePrice')\nX_train, X_valid = split_vals(df_trn, n_trn)\ny_train, y_valid = split_vals(y_trn, n_trn)",
      "execution_count": null,
      "outputs": []
    },
    {
      "metadata": {
        "trusted": true,
        "_uuid": "2d24c27a8c1919e29d1cf7ec47e52f99dff93f0f"
      },
      "cell_type": "code",
      "source": "set_rf_samples(20000)",
      "execution_count": null,
      "outputs": []
    },
    {
      "metadata": {
        "trusted": true,
        "_uuid": "13e1bdc9c265bcea2abf171b67318167cc835041"
      },
      "cell_type": "code",
      "source": "reset_rf_samples()",
      "execution_count": null,
      "outputs": []
    },
    {
      "metadata": {
        "trusted": true,
        "_uuid": "006b114177d8d5c5d171a1f53e96329fbdd44e67"
      },
      "cell_type": "code",
      "source": "def dectree_max_depth(tree):\n    children_left = tree.children_left\n    children_right = tree.children_right\n\n    def walk(node_id):\n        if (children_left[node_id] != children_right[node_id]):\n            left_max = 1 + walk(children_left[node_id])\n            right_max = 1 + walk(children_right[node_id])\n            return max(left_max, right_max)\n        else: # leaf\n            return 1\n\n    root_node_id = 0\n    return walk(root_node_id)",
      "execution_count": null,
      "outputs": []
    },
    {
      "metadata": {
        "trusted": true,
        "_uuid": "5e48107d6a5af195b1a553ab3c17276f585f5af6"
      },
      "cell_type": "code",
      "source": "m = RandomForestRegressor(n_estimators=80, min_samples_leaf=3, max_features=0.5, n_jobs=-1, oob_score=True)\nm.fit(X_train, y_train)\nprint_score(m)",
      "execution_count": null,
      "outputs": []
    },
    {
      "metadata": {
        "trusted": true,
        "_uuid": "43c59e9a4d8340fa6e12d0b0875b52697a83b74e"
      },
      "cell_type": "code",
      "source": "",
      "execution_count": null,
      "outputs": []
    }
  ],
  "metadata": {
    "kernelspec": {
      "display_name": "Python 3",
      "language": "python",
      "name": "python3"
    },
    "language_info": {
      "name": "python",
      "version": "3.6.6",
      "mimetype": "text/x-python",
      "codemirror_mode": {
        "name": "ipython",
        "version": 3
      },
      "pygments_lexer": "ipython3",
      "nbconvert_exporter": "python",
      "file_extension": ".py"
    }
  },
  "nbformat": 4,
  "nbformat_minor": 1
}